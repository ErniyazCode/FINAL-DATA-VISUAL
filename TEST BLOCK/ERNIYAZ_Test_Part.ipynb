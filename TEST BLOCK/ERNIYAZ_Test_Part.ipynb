{
  "nbformat": 4,
  "nbformat_minor": 0,
  "metadata": {
    "colab": {
      "provenance": []
    },
    "kernelspec": {
      "name": "python3",
      "display_name": "Python 3"
    },
    "language_info": {
      "name": "python"
    }
  },
  "cells": [
    {
      "cell_type": "markdown",
      "source": [
        "Erniyaz Ashuov Test Part"
      ],
      "metadata": {
        "id": "f2-VugIWHLq2"
      }
    },
    {
      "cell_type": "code",
      "execution_count": 46,
      "metadata": {
        "id": "tkfypDGPkzze"
      },
      "outputs": [],
      "source": [
        "import pandas as pd\n",
        "from scipy.stats import ttest_ind\n",
        "import matplotlib.pyplot as plt\n",
        "import seaborn as sns"
      ]
    },
    {
      "cell_type": "code",
      "source": [
        "# Excel file\n",
        "file_path = 'Данные для тестового задания.xlsx'\n",
        "data = pd.read_excel(file_path, sheet_name='Данные об аудитории')\n",
        "ab_test_data = pd.read_excel(file_path, sheet_name='Данные АБ тестов')\n",
        "listers_data = pd.read_excel(file_path, sheet_name='Листеры')"
      ],
      "metadata": {
        "id": "A_8dBJzlH4r0"
      },
      "execution_count": 47,
      "outputs": []
    },
    {
      "cell_type": "code",
      "source": [
        "data['date'] = pd.to_datetime(data['date'], errors='coerce')"
      ],
      "metadata": {
        "id": "tEAP2Q6kKrYt"
      },
      "execution_count": 48,
      "outputs": []
    },
    {
      "cell_type": "markdown",
      "source": [
        "\n",
        "\n",
        "---\n",
        "\n"
      ],
      "metadata": {
        "id": "qdYFkGVwOaYR"
      }
    },
    {
      "cell_type": "code",
      "source": [
        "# 1. MAU (Monthly Active Users)\n",
        "november_data = data[(data['date'] >= '2023-11-01') & (data['date'] <= '2023-11-30')]\n",
        "MAU = november_data['user_id'].nunique()\n",
        "print(\"MAU:\", MAU)"
      ],
      "metadata": {
        "colab": {
          "base_uri": "https://localhost:8080/"
        },
        "id": "1ze_Ej0zH79I",
        "outputId": "0b402db4-9608-4f28-dce6-5483daab7733"
      },
      "execution_count": 57,
      "outputs": [
        {
          "output_type": "stream",
          "name": "stdout",
          "text": [
            "MAU: 7639\n"
          ]
        }
      ]
    },
    {
      "cell_type": "markdown",
      "source": [
        "\n",
        "\n",
        "---\n",
        "\n"
      ],
      "metadata": {
        "id": "bE5FyZ-LObTb"
      }
    },
    {
      "cell_type": "code",
      "source": [
        "#2. DAU (Daily Active Users)\n",
        "DAU = november_data.groupby(november_data['date'].dt.date)['user_id'].nunique()\n",
        "\n",
        "# Calculate the average DAU for November\n",
        "average_dau = DAU.mean()\n",
        "print(f\"DAU: {average_dau}\")"
      ],
      "metadata": {
        "colab": {
          "base_uri": "https://localhost:8080/"
        },
        "id": "r_4OaFzFH9cr",
        "outputId": "077b1b20-3e4d-414b-ebbc-2bbef8ac54cf"
      },
      "execution_count": 58,
      "outputs": [
        {
          "output_type": "stream",
          "name": "stdout",
          "text": [
            "DAU: 560.4666666666667\n"
          ]
        }
      ]
    },
    {
      "cell_type": "markdown",
      "source": [
        "\n",
        "\n",
        "---\n",
        "\n"
      ],
      "metadata": {
        "id": "eUO0igMSOfDp"
      }
    },
    {
      "cell_type": "code",
      "source": [
        "# 3. Day 1 Retention\n",
        "november_1_users = november_data[november_data['date'] == '2023-11-01']['user_id'].unique()\n",
        "\n",
        "if len(november_1_users) > 0:\n",
        "    november_2_users = november_data[(november_data['date'] == '2023-11-02') &\n",
        "                                     (november_data['user_id'].isin(november_1_users))]['user_id'].nunique()\n",
        "    day_1_retention = (november_2_users / len(november_1_users)) * 100\n",
        "else:\n",
        "    day_1_retention = \"Not applicable (no users on November 1)\"\n",
        "\n",
        "print(\"Day 1 retention rate:\", day_1_retention)"
      ],
      "metadata": {
        "colab": {
          "base_uri": "https://localhost:8080/"
        },
        "id": "uEzlo534H-5X",
        "outputId": "5aa776a3-5d7c-43d3-bd23-2ee44632101b"
      },
      "execution_count": 59,
      "outputs": [
        {
          "output_type": "stream",
          "name": "stdout",
          "text": [
            "Day 1 retention rate: 26.64526484751204\n"
          ]
        }
      ]
    },
    {
      "cell_type": "markdown",
      "source": [
        "\n",
        "\n",
        "---\n",
        "\n"
      ],
      "metadata": {
        "id": "iMbi1Id7Ov-H"
      }
    },
    {
      "cell_type": "code",
      "source": [
        "# 5. Conversion rate\n",
        "total_users_november = november_data['user_id'].nunique()\n",
        "\n",
        "users_with_views = november_data[november_data['view_adverts'] > 0]['user_id'].nunique()\n",
        "\n",
        "conversion_rate = (users_with_views / total_users_november) * 100\n",
        "print(f\"User conversion rate: {conversion_rate:.2f}%\")"
      ],
      "metadata": {
        "colab": {
          "base_uri": "https://localhost:8080/"
        },
        "id": "sXjFkE0LMESF",
        "outputId": "7569244f-2325-42fa-80e2-fa5b495f0b52"
      },
      "execution_count": 60,
      "outputs": [
        {
          "output_type": "stream",
          "name": "stdout",
          "text": [
            "User conversion rate: 46.31%\n"
          ]
        }
      ]
    },
    {
      "cell_type": "markdown",
      "source": [
        "\n",
        "\n",
        "---\n",
        "\n"
      ],
      "metadata": {
        "id": "xBPc_S5-OvTH"
      }
    },
    {
      "cell_type": "code",
      "source": [
        "# 6. Average number of advertisements viewed per user\n",
        "average_views_per_user = november_data['view_adverts'].sum() / total_users_november\n",
        "print(f\"Average number of advertisements viewed per user: {average_views_per_user:.2f}\")"
      ],
      "metadata": {
        "colab": {
          "base_uri": "https://localhost:8080/"
        },
        "id": "Z4ZkfYGVMr98",
        "outputId": "97b050c3-c912-4304-c72f-b07f787dc3c1"
      },
      "execution_count": 61,
      "outputs": [
        {
          "output_type": "stream",
          "name": "stdout",
          "text": [
            "Average number of advertisements viewed per user: 2.87\n"
          ]
        }
      ]
    },
    {
      "cell_type": "markdown",
      "source": [
        "\n",
        "\n",
        "---\n",
        "\n"
      ],
      "metadata": {
        "id": "mADCq9pSOwzr"
      }
    },
    {
      "cell_type": "code",
      "source": [
        "# 7. NPS (Net Promoter Score)\n",
        "total_users = 2000\n",
        "detractors = 500\n",
        "promoters = 1200\n",
        "passives = 300\n",
        "\n",
        "percent_promoters = (promoters / total_users) * 100\n",
        "percent_detractors = (detractors / total_users) * 100\n",
        "\n",
        "NPS = percent_promoters - percent_detractors\n",
        "print(f\"NPS: {NPS:.2f}%\")"
      ],
      "metadata": {
        "colab": {
          "base_uri": "https://localhost:8080/"
        },
        "id": "xV5qQi_mMtuL",
        "outputId": "8022c750-b620-4368-fb0e-4d9d0b1a809d"
      },
      "execution_count": 62,
      "outputs": [
        {
          "output_type": "stream",
          "name": "stdout",
          "text": [
            "NPS: 35.00%\n"
          ]
        }
      ]
    },
    {
      "cell_type": "markdown",
      "source": [
        "\n",
        "\n",
        "---\n",
        "\n"
      ],
      "metadata": {
        "id": "SKX2tTAaPD0L"
      }
    },
    {
      "cell_type": "code",
      "source": [
        "# 8. A/B tests for ARPU (Average Revenue Per User)\n",
        "\n",
        "arpu = ab_test_data.groupby(['experiment_num', 'experiment_group'])['revenue'].mean()\n",
        "print(\"ARPU for each experiment and group:\")\n",
        "print(arpu)\n",
        "\n",
        "for experiment in ab_test_data['experiment_num'].unique():\n",
        "    control_group = ab_test_data[(ab_test_data['experiment_num'] == experiment) &\n",
        "                                 (ab_test_data['experiment_group'] == 'control')]['revenue']\n",
        "    test_group = ab_test_data[(ab_test_data['experiment_num'] == experiment) &\n",
        "                              (ab_test_data['experiment_group'] == 'test')]['revenue']\n",
        "\n",
        "    t_stat, p_value = ttest_ind(control_group, test_group, equal_var=False)\n",
        "\n",
        "    print(f\"\\nExperiment {experiment}:\")\n",
        "    print(f\"Control Group ARPU: {control_group.mean():.2f}\")\n",
        "    print(f\"Test Group ARPU: {test_group.mean():.2f}\")\n",
        "    print(f\"p-value: {p_value:.4f}\")\n",
        "\n",
        "    if p_value < 0.05:\n",
        "        print(f\"Result: Significant difference in ARPU for experiment {experiment}.\")\n",
        "        print(\"Recommendation: Consider implementing the changes in the test group.\")\n",
        "    else:\n",
        "        print(f\"Result: No significant difference in ARPU for experiment {experiment}.\")\n",
        "        print(\"Recommendation: Keep the current version as the test changes did not show significant improvement.\")"
      ],
      "metadata": {
        "colab": {
          "base_uri": "https://localhost:8080/"
        },
        "id": "jdpCXGntNdDa",
        "outputId": "2697bf29-01f7-4a9e-ed71-104acd725035"
      },
      "execution_count": 66,
      "outputs": [
        {
          "output_type": "stream",
          "name": "stdout",
          "text": [
            "ARPU for each experiment and group:\n",
            "experiment_num  experiment_group\n",
            "1               control             722.460215\n",
            "                test                665.739583\n",
            "2               control             704.653763\n",
            "                test                332.929167\n",
            "3               control             663.206452\n",
            "                test                998.668750\n",
            "Name: revenue, dtype: float64\n",
            "\n",
            "Experiment 1:\n",
            "Control Group ARPU: 722.46\n",
            "Test Group ARPU: 665.74\n",
            "p-value: 0.6890\n",
            "Result: No significant difference in ARPU for experiment 1.\n",
            "Recommendation: Keep the current version as the test changes did not show significant improvement.\n",
            "\n",
            "Experiment 2:\n",
            "Control Group ARPU: 704.65\n",
            "Test Group ARPU: 332.93\n",
            "p-value: 0.0011\n",
            "Result: Significant difference in ARPU for experiment 2.\n",
            "Recommendation: Consider implementing the changes in the test group.\n",
            "\n",
            "Experiment 3:\n",
            "Control Group ARPU: 663.21\n",
            "Test Group ARPU: 998.67\n",
            "p-value: 0.0603\n",
            "Result: No significant difference in ARPU for experiment 3.\n",
            "Recommendation: Keep the current version as the test changes did not show significant improvement.\n"
          ]
        }
      ]
    },
    {
      "cell_type": "markdown",
      "source": [
        "\n",
        "\n",
        "---\n",
        "\n"
      ],
      "metadata": {
        "id": "6c90vu0mHKyD"
      }
    },
    {
      "cell_type": "code",
      "source": [
        "# 9. Average revenue per user\n",
        "average_revenue_per_user = listers_data['revenue'].mean()\n",
        "print(f\"Average revenue per user: {average_revenue_per_user:.2f}\")"
      ],
      "metadata": {
        "colab": {
          "base_uri": "https://localhost:8080/"
        },
        "id": "wm85xvpuNwdx",
        "outputId": "bd34bd0c-7de9-4c30-ab99-75bd928ab8ed"
      },
      "execution_count": 64,
      "outputs": [
        {
          "output_type": "stream",
          "name": "stdout",
          "text": [
            "Average revenue per user: 30.70\n"
          ]
        }
      ]
    },
    {
      "cell_type": "markdown",
      "source": [
        "\n",
        "\n",
        "---\n",
        "\n"
      ],
      "metadata": {
        "id": "8cKpUuDoPvyc"
      }
    },
    {
      "cell_type": "code",
      "source": [
        "# 10. Median age of users\n",
        "median_age = listers_data['age'].median()\n",
        "print(f\"Median age of users: {median_age}\")"
      ],
      "metadata": {
        "colab": {
          "base_uri": "https://localhost:8080/"
        },
        "id": "AJFKXK4pN4cT",
        "outputId": "d1ecb222-98a5-4e3b-f694-3dedf4008376"
      },
      "execution_count": 65,
      "outputs": [
        {
          "output_type": "stream",
          "name": "stdout",
          "text": [
            "Median age of users: 28.0\n"
          ]
        }
      ]
    }
  ]
}